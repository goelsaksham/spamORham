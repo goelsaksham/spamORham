{
 "cells": [
  {
   "cell_type": "code",
   "execution_count": 13,
   "metadata": {},
   "outputs": [],
   "source": [
    "import pandas as pd\n",
    "import numpy as np\n",
    "import nltk\n",
    "import os\n",
    "import glob\n",
    "from keras.layers import SimpleRNN, Dropout, Dense, Embedding\n",
    "from keras.models import Sequential\n",
    "import json"
   ]
  },
  {
   "cell_type": "code",
   "execution_count": 15,
   "metadata": {},
   "outputs": [],
   "source": [
    "spamFiles = glob.glob('../../data/txt_dataset/spam/*')\n",
    "hamFiles = glob.glob('../../data/txt_dataset/ham/*')\n",
    "wordDict = json.load(open('../../data/dictionaries/dict.json', 'r'))"
   ]
  },
  {
   "cell_type": "code",
   "execution_count": 22,
   "metadata": {},
   "outputs": [],
   "source": [
    "max_words = wordDict[max(wordDict, key=lambda x: wordDict[x])]"
   ]
  },
  {
   "cell_type": "code",
   "execution_count": 63,
   "metadata": {},
   "outputs": [],
   "source": [
    "bag_Of_Words_spam_binary = np.zeros(shape=(len(spamFiles), max(10000, max_words)), dtype=np.int16)\n",
    "bag_Of_Words_spam = np.zeros(shape=(len(spamFiles), max(10000, max_words)), dtype=np.int16)\n",
    "bag_Of_Words_ham_binary = np.zeros(shape=(len(hamFiles), max(10000, max_words)), dtype=np.int16)\n",
    "bag_Of_Words_ham = np.zeros(shape=(len(hamFiles), max(10000, max_words)), dtype=np.int16)\n",
    "\n",
    "for file_path, file_counter in zip(spamFiles, range(len(spamFiles))):\n",
    "    file_data = nltk.word_tokenize(open(file_path, 'r').read().strip())\n",
    "    for word in file_data:\n",
    "        try:\n",
    "            bag_Of_Words_spam[file_counter, wordDict[word]] += 1\n",
    "            bag_Of_Words_spam_binary[file_counter, wordDict[word]] = 1\n",
    "        except KeyError:\n",
    "            bag_Of_Words_spam[file_counter, 0] += 1\n",
    "            bag_Of_Words_spam_binary[file_counter, 0] = 1\n",
    "            \n",
    "for file_path, file_counter in zip(hamFiles, range(len(hamFiles))):\n",
    "    file_data = nltk.word_tokenize(open(file_path, 'r').read().strip())\n",
    "    for word in file_data:\n",
    "        try:\n",
    "            bag_Of_Words_ham[file_counter, wordDict[word]] += 1\n",
    "            bag_Of_Words_ham_binary[file_counter, wordDict[word]] = 1\n",
    "        except KeyError:\n",
    "            bag_Of_Words_ham[file_counter, 0] += 1\n",
    "            bag_Of_Words_ham_binary[file_counter, 0] = 1"
   ]
  },
  {
   "cell_type": "code",
   "execution_count": 73,
   "metadata": {},
   "outputs": [],
   "source": [
    "maximum_sms_length = -np.inf\n",
    "for file_path in spamFiles + hamFiles:\n",
    "    maximum_sms_length = max(maximum_sms_length, len(nltk.word_tokenize(open(file_path, 'r').read().strip())))"
   ]
  },
  {
   "cell_type": "code",
   "execution_count": 80,
   "metadata": {},
   "outputs": [],
   "source": [
    "message_data = np.zeros(shape = (len(spamFiles) + len(hamFiles), maximum_sms_length), dtype=np.int16)\n",
    "for file_path, file_counter in zip(spamFiles + hamFiles, range(len(spamFiles) + len(hamFiles))):\n",
    "    file_data = nltk.word_tokenize(open(file_path, 'r').read().strip())\n",
    "    for word, word_counter in zip(file_data, range(len(file_data))):\n",
    "        try:\n",
    "            message_data[file_counter, word_counter] = wordDict[word]\n",
    "        except KeyError:\n",
    "            message_data[file_counter, word_counter] = 0\n",
    "\n",
    "class_labels = ['spam'] * len(spamFiles) + ['ham'] * len(hamFiles)"
   ]
  },
  {
   "cell_type": "code",
   "execution_count": 86,
   "metadata": {},
   "outputs": [],
   "source": [
    "class_labels = ['spam'] * len(spamFiles) + ['ham'] * len(hamFiles)"
   ]
  },
  {
   "cell_type": "code",
   "execution_count": 94,
   "metadata": {},
   "outputs": [],
   "source": [
    "X, y = message_data, pd.Categorical(class_labels).codes"
   ]
  },
  {
   "cell_type": "code",
   "execution_count": 105,
   "metadata": {},
   "outputs": [
    {
     "name": "stdout",
     "output_type": "stream",
     "text": [
      "_________________________________________________________________\n",
      "Layer (type)                 Output Shape              Param #   \n",
      "=================================================================\n",
      "embedding_6 (Embedding)      (None, 171, 10)           100000    \n",
      "_________________________________________________________________\n",
      "simple_rnn_3 (SimpleRNN)     (None, 10)                210       \n",
      "_________________________________________________________________\n",
      "dense_3 (Dense)              (None, 1)                 11        \n",
      "=================================================================\n",
      "Total params: 100,221\n",
      "Trainable params: 100,221\n",
      "Non-trainable params: 0\n",
      "_________________________________________________________________\n"
     ]
    }
   ],
   "source": [
    "model = Sequential()\n",
    "model.add(Embedding(max(10000, max_words), 10, input_length=maximum_sms_length))\n",
    "model.add(SimpleRNN(10))\n",
    "model.add(Dense(1, activation='sigmoid'))\n",
    "model.compile('adam', 'binary_crossentropy', metrics=['accuracy'])\n",
    "model.summary()"
   ]
  },
  {
   "cell_type": "code",
   "execution_count": null,
   "metadata": {},
   "outputs": [
    {
     "name": "stdout",
     "output_type": "stream",
     "text": [
      "Epoch 1/10\n",
      "5574/5574 [==============================] - 4s 644us/step - loss: 0.3943 - acc: 0.8660\n",
      "Epoch 2/10\n",
      "5574/5574 [==============================] - 4s 784us/step - loss: 0.3943 - acc: 0.8660\n",
      "Epoch 3/10\n",
      "5292/5574 [===========================>..] - ETA: 0s - loss: 0.3950 - acc: 0.8655"
     ]
    }
   ],
   "source": [
    "model.fit(X, y, epochs=10, batch_size=54)"
   ]
  },
  {
   "cell_type": "code",
   "execution_count": null,
   "metadata": {},
   "outputs": [],
   "source": []
  }
 ],
 "metadata": {
  "kernelspec": {
   "display_name": "Python 3",
   "language": "python",
   "name": "python3"
  },
  "language_info": {
   "codemirror_mode": {
    "name": "ipython",
    "version": 3
   },
   "file_extension": ".py",
   "mimetype": "text/x-python",
   "name": "python",
   "nbconvert_exporter": "python",
   "pygments_lexer": "ipython3",
   "version": "3.6.4"
  }
 },
 "nbformat": 4,
 "nbformat_minor": 2
}
